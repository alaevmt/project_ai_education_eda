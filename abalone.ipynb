{
 "cells": [
  {
   "cell_type": "markdown",
   "id": "d13d7ad9",
   "metadata": {},
   "source": [
    "# Анализ данных abalone\n",
    "В текущем блокноте проводится анализ данных датафрейма abalone. Основная задача - на основе имеющихся данных определить возраст морского ушка. Имеются следующие атрибуты:\n",
    "\n",
    "`Sex` - nominal - M, F, and I (infant)\n",
    "\n",
    "`Length` - continuous - mm - Longest shell measurement\n",
    "\n",
    "`Diameter` - continuous - mm - perpendicular to length\n",
    "\n",
    "`Height` - continuous - mm - with meat in shell\n",
    "\n",
    "`Whole weight` - continuous - grams - whole abalone\n",
    "\n",
    "`Shucked weight` - continuous - grams - weight of meat\n",
    "\n",
    "`Viscera weight` - continuous - grams - gut weight (after bleeding)\n",
    "\n",
    "`Shell weight` - continuous - grams - after being dried\n",
    "\n",
    "`Rings` - integer - +1.5 gives the age in years (target)"
   ]
  },
  {
   "cell_type": "markdown",
   "id": "af2bd30a",
   "metadata": {},
   "source": [
    "# Импорт датафрейма и необходимых библиотек"
   ]
  },
  {
   "cell_type": "code",
   "execution_count": 4,
   "id": "f1d7241e",
   "metadata": {},
   "outputs": [],
   "source": [
    "import pandas as pd\n",
    "import numpy as np\n",
    "import polars as pl\n",
    "import seaborn as sns\n",
    "import matplotlib.pyplot as plt\n",
    "%matplotlib inline"
   ]
  },
  {
   "cell_type": "code",
   "execution_count": 5,
   "id": "5dcf97c8",
   "metadata": {},
   "outputs": [],
   "source": [
    "df = pd.read_csv('https://raw.githubusercontent.com/aiedu-courses/stepik_eda_and_dev_tools/main/datasets/abalone.csv')"
   ]
  },
  {
   "cell_type": "code",
   "execution_count": 6,
   "id": "6b560db6",
   "metadata": {},
   "outputs": [
    {
     "data": {
      "text/html": [
       "<div>\n",
       "<style scoped>\n",
       "    .dataframe tbody tr th:only-of-type {\n",
       "        vertical-align: middle;\n",
       "    }\n",
       "\n",
       "    .dataframe tbody tr th {\n",
       "        vertical-align: top;\n",
       "    }\n",
       "\n",
       "    .dataframe thead th {\n",
       "        text-align: right;\n",
       "    }\n",
       "</style>\n",
       "<table border=\"1\" class=\"dataframe\">\n",
       "  <thead>\n",
       "    <tr style=\"text-align: right;\">\n",
       "      <th></th>\n",
       "      <th>Sex</th>\n",
       "      <th>Length</th>\n",
       "      <th>Diameter</th>\n",
       "      <th>Height</th>\n",
       "      <th>Whole weight</th>\n",
       "      <th>Shucked weight</th>\n",
       "      <th>Viscera weight</th>\n",
       "      <th>Shell weight</th>\n",
       "      <th>Rings</th>\n",
       "    </tr>\n",
       "  </thead>\n",
       "  <tbody>\n",
       "    <tr>\n",
       "      <th>0</th>\n",
       "      <td>M</td>\n",
       "      <td>0.455</td>\n",
       "      <td>0.365</td>\n",
       "      <td>0.095</td>\n",
       "      <td>0.5140</td>\n",
       "      <td>0.2245</td>\n",
       "      <td>0.1010</td>\n",
       "      <td>0.150</td>\n",
       "      <td>15</td>\n",
       "    </tr>\n",
       "    <tr>\n",
       "      <th>1</th>\n",
       "      <td>M</td>\n",
       "      <td>0.350</td>\n",
       "      <td>0.265</td>\n",
       "      <td>0.090</td>\n",
       "      <td>0.2255</td>\n",
       "      <td>0.0995</td>\n",
       "      <td>0.0485</td>\n",
       "      <td>0.070</td>\n",
       "      <td>7</td>\n",
       "    </tr>\n",
       "    <tr>\n",
       "      <th>2</th>\n",
       "      <td>F</td>\n",
       "      <td>0.530</td>\n",
       "      <td>0.420</td>\n",
       "      <td>0.135</td>\n",
       "      <td>0.6770</td>\n",
       "      <td>0.2565</td>\n",
       "      <td>0.1415</td>\n",
       "      <td>0.210</td>\n",
       "      <td>9</td>\n",
       "    </tr>\n",
       "    <tr>\n",
       "      <th>3</th>\n",
       "      <td>M</td>\n",
       "      <td>0.440</td>\n",
       "      <td>0.365</td>\n",
       "      <td>0.125</td>\n",
       "      <td>NaN</td>\n",
       "      <td>0.2155</td>\n",
       "      <td>0.1140</td>\n",
       "      <td>0.155</td>\n",
       "      <td>10</td>\n",
       "    </tr>\n",
       "    <tr>\n",
       "      <th>4</th>\n",
       "      <td>I</td>\n",
       "      <td>0.330</td>\n",
       "      <td>0.255</td>\n",
       "      <td>0.080</td>\n",
       "      <td>0.2050</td>\n",
       "      <td>0.0895</td>\n",
       "      <td>0.0395</td>\n",
       "      <td>0.055</td>\n",
       "      <td>7</td>\n",
       "    </tr>\n",
       "  </tbody>\n",
       "</table>\n",
       "</div>"
      ],
      "text/plain": [
       "  Sex  Length  Diameter  Height  Whole weight  Shucked weight  Viscera weight  \\\n",
       "0   M   0.455     0.365   0.095        0.5140          0.2245          0.1010   \n",
       "1   M   0.350     0.265   0.090        0.2255          0.0995          0.0485   \n",
       "2   F   0.530     0.420   0.135        0.6770          0.2565          0.1415   \n",
       "3   M   0.440     0.365   0.125           NaN          0.2155          0.1140   \n",
       "4   I   0.330     0.255   0.080        0.2050          0.0895          0.0395   \n",
       "\n",
       "   Shell weight  Rings  \n",
       "0         0.150     15  \n",
       "1         0.070      7  \n",
       "2         0.210      9  \n",
       "3         0.155     10  \n",
       "4         0.055      7  "
      ]
     },
     "execution_count": 6,
     "metadata": {},
     "output_type": "execute_result"
    }
   ],
   "source": [
    "df.head()"
   ]
  },
  {
   "cell_type": "markdown",
   "id": "7b35825b",
   "metadata": {},
   "source": [
    "# Анализ данных"
   ]
  },
  {
   "cell_type": "code",
   "execution_count": 7,
   "id": "ab4a42ca",
   "metadata": {},
   "outputs": [
    {
     "name": "stdout",
     "output_type": "stream",
     "text": [
      "Размер датасета составляет 4177 строк, 9 столбцов.\n"
     ]
    }
   ],
   "source": [
    "print(f'Размер датасета составляет {df.shape[0]} строк, {df.shape[1]} столбцов.')"
   ]
  },
  {
   "cell_type": "code",
   "execution_count": 8,
   "id": "28897e53",
   "metadata": {},
   "outputs": [
    {
     "name": "stdout",
     "output_type": "stream",
     "text": [
      "<class 'pandas.core.frame.DataFrame'>\n",
      "RangeIndex: 4177 entries, 0 to 4176\n",
      "Data columns (total 9 columns):\n",
      " #   Column          Non-Null Count  Dtype  \n",
      "---  ------          --------------  -----  \n",
      " 0   Sex             4177 non-null   object \n",
      " 1   Length          4177 non-null   float64\n",
      " 2   Diameter        4078 non-null   float64\n",
      " 3   Height          4177 non-null   float64\n",
      " 4   Whole weight    4078 non-null   float64\n",
      " 5   Shucked weight  4177 non-null   float64\n",
      " 6   Viscera weight  4177 non-null   float64\n",
      " 7   Shell weight    4127 non-null   float64\n",
      " 8   Rings           4177 non-null   int64  \n",
      "dtypes: float64(7), int64(1), object(1)\n",
      "memory usage: 293.8+ KB\n"
     ]
    }
   ],
   "source": [
    "df.info()"
   ]
  },
  {
   "cell_type": "markdown",
   "id": "191fa324",
   "metadata": {},
   "source": [
    "- Видно, что в столбцах Diameter, Whole weight и Shell weight есть пропущенные значения;\n",
    "- Название столбцов лучше переименовать для дальнейшего использования;\n",
    "- Типы данных выбраны корректно, изменять не требуется.\n",
    "\n",
    "Заменим пустые значения медианой в столбцах."
   ]
  },
  {
   "cell_type": "code",
   "execution_count": 9,
   "id": "a68e6f2b",
   "metadata": {},
   "outputs": [],
   "source": [
    "median_diameter = df[~df['Diameter'].isnull()]['Diameter'].median()\n",
    "median_Whole_weight = df[~df['Whole weight'].isnull()]['Whole weight'].median()\n",
    "median_Shell_weight = df[~df['Shell weight'].isnull()]['Shell weight'].median()\n",
    "\n",
    "df['Diameter'].fillna(median_diameter, inplace=True)\n",
    "df['Whole weight'].fillna(median_Whole_weight, inplace=True)\n",
    "df['Shell weight'].fillna(median_Shell_weight, inplace=True)"
   ]
  },
  {
   "cell_type": "code",
   "execution_count": 10,
   "id": "af07fcdc",
   "metadata": {},
   "outputs": [
    {
     "data": {
      "text/html": [
       "<div>\n",
       "<style scoped>\n",
       "    .dataframe tbody tr th:only-of-type {\n",
       "        vertical-align: middle;\n",
       "    }\n",
       "\n",
       "    .dataframe tbody tr th {\n",
       "        vertical-align: top;\n",
       "    }\n",
       "\n",
       "    .dataframe thead th {\n",
       "        text-align: right;\n",
       "    }\n",
       "</style>\n",
       "<table border=\"1\" class=\"dataframe\">\n",
       "  <thead>\n",
       "    <tr style=\"text-align: right;\">\n",
       "      <th></th>\n",
       "      <th>Sex</th>\n",
       "      <th>Length</th>\n",
       "      <th>Diameter</th>\n",
       "      <th>Height</th>\n",
       "      <th>Whole weight</th>\n",
       "      <th>Shucked weight</th>\n",
       "      <th>Viscera weight</th>\n",
       "      <th>Shell weight</th>\n",
       "      <th>Rings</th>\n",
       "    </tr>\n",
       "  </thead>\n",
       "  <tbody>\n",
       "  </tbody>\n",
       "</table>\n",
       "</div>"
      ],
      "text/plain": [
       "Empty DataFrame\n",
       "Columns: [Sex, Length, Diameter, Height, Whole weight, Shucked weight, Viscera weight, Shell weight, Rings]\n",
       "Index: []"
      ]
     },
     "execution_count": 10,
     "metadata": {},
     "output_type": "execute_result"
    }
   ],
   "source": [
    "df[df.duplicated()]"
   ]
  },
  {
   "cell_type": "markdown",
   "id": "663594b3",
   "metadata": {},
   "source": [
    "Дублирующие строки в нашем датафрейме отсутствуют. Переименуем наименования столбцов для дальнейшего использования."
   ]
  },
  {
   "cell_type": "code",
   "execution_count": 11,
   "id": "542408e0",
   "metadata": {},
   "outputs": [
    {
     "data": {
      "text/plain": [
       "Index(['Sex', 'Length', 'Diameter', 'Height', 'Whole weight', 'Shucked weight',\n",
       "       'Viscera weight', 'Shell weight', 'Rings'],\n",
       "      dtype='object')"
      ]
     },
     "execution_count": 11,
     "metadata": {},
     "output_type": "execute_result"
    }
   ],
   "source": [
    "df.columns"
   ]
  },
  {
   "cell_type": "code",
   "execution_count": 12,
   "id": "3705a282",
   "metadata": {},
   "outputs": [],
   "source": [
    "# С помощью цикла сделаем так, чтобы все наименования были с маленькой буквы, между двумя словами был знак \"-\".\n",
    "for i in df.columns:\n",
    "    if ' ' in i:\n",
    "        df['_'.join(i.lower().split())] = df[i]\n",
    "    df[i.lower()] = df[i]\n",
    "    \n",
    "for i in df.columns:\n",
    "    if i != i.lower() or ' ' in i: \n",
    "        df.drop(i, axis=1, inplace=True)"
   ]
  },
  {
   "cell_type": "markdown",
   "id": "9c5c4e8f",
   "metadata": {},
   "source": [
    "# Визуализация данных\n",
    "Построим по каждому столбцу график и визуально посмотрим на данные"
   ]
  },
  {
   "cell_type": "code",
   "execution_count": 13,
   "id": "cdb5469b",
   "metadata": {},
   "outputs": [
    {
     "data": {
      "text/plain": [
       "<AxesSubplot:xlabel='sex', ylabel='sex_counts'>"
      ]
     },
     "execution_count": 13,
     "metadata": {},
     "output_type": "execute_result"
    },
    {
     "data": {
      "image/png": "[encoded data removed]",
      "text/plain": [
       "<Figure size 432x216 with 1 Axes>"
      ]
     },
     "metadata": {
      "needs_background": "light"
     },
     "output_type": "display_data"
    }
   ],
   "source": [
    "sex = df.groupby('sex', as_index=False) \\\n",
    "    .agg({'rings': 'count'}) \\\n",
    "    .rename(columns={'rings': 'sex_counts'})\n",
    "\n",
    "\n",
    "plt.figure(figsize=(6, 3))\n",
    "sns.barplot(data=sex, x=sex['sex'], y=sex['sex_counts'])"
   ]
  },
  {
   "cell_type": "markdown",
   "id": "f2342746",
   "metadata": {},
   "source": [
    "По всей видимости в данных допущена ошибка, так как мы знаем, что у нас должно быть 3 группы в атрибуте `sex`. Отнесём данные по f к F"
   ]
  },
  {
   "cell_type": "code",
   "execution_count": 14,
   "id": "d0babeac",
   "metadata": {},
   "outputs": [],
   "source": [
    "df.loc[df['sex'] == 'f', 'sex'] = 'F'"
   ]
  },
  {
   "cell_type": "code",
   "execution_count": 15,
   "id": "dd4816c7",
   "metadata": {},
   "outputs": [
    {
     "data": {
      "text/plain": [
       "<AxesSubplot:xlabel='sex', ylabel='sex_counts'>"
      ]
     },
     "execution_count": 15,
     "metadata": {},
     "output_type": "execute_result"
    },
    {
     "data": {
      "image/png": "[encoded data removed]",
      "text/plain": [
       "<Figure size 432x288 with 1 Axes>"
      ]
     },
     "metadata": {
      "needs_background": "light"
     },
     "output_type": "display_data"
    }
   ],
   "source": [
    "sex = df.groupby('sex', as_index=False) \\\n",
    "    .agg({'rings': 'count'}) \\\n",
    "    .rename(columns={'rings': 'sex_counts'})\n",
    "\n",
    "\n",
    "sns.barplot(data=sex, x=sex['sex'], y=sex['sex_counts'])"
   ]
  },
  {
   "cell_type": "markdown",
   "id": "0fa77d03",
   "metadata": {},
   "source": [
    "В датафрейме почти равное количество строк по каждой группе."
   ]
  },
  {
   "cell_type": "code",
   "execution_count": 16,
   "id": "8fed97ec",
   "metadata": {},
   "outputs": [
    {
     "data": {
      "text/html": [
       "<div>\n",
       "<style scoped>\n",
       "    .dataframe tbody tr th:only-of-type {\n",
       "        vertical-align: middle;\n",
       "    }\n",
       "\n",
       "    .dataframe tbody tr th {\n",
       "        vertical-align: top;\n",
       "    }\n",
       "\n",
       "    .dataframe thead th {\n",
       "        text-align: right;\n",
       "    }\n",
       "</style>\n",
       "<table border=\"1\" class=\"dataframe\">\n",
       "  <thead>\n",
       "    <tr style=\"text-align: right;\">\n",
       "      <th></th>\n",
       "      <th>length</th>\n",
       "      <th>diameter</th>\n",
       "      <th>height</th>\n",
       "      <th>whole_weight</th>\n",
       "      <th>shucked_weight</th>\n",
       "      <th>viscera_weight</th>\n",
       "      <th>shell_weight</th>\n",
       "      <th>rings</th>\n",
       "    </tr>\n",
       "  </thead>\n",
       "  <tbody>\n",
       "    <tr>\n",
       "      <th>count</th>\n",
       "      <td>4177.000000</td>\n",
       "      <td>4177.000000</td>\n",
       "      <td>4177.000000</td>\n",
       "      <td>4177.000000</td>\n",
       "      <td>4177.000000</td>\n",
       "      <td>4177.000000</td>\n",
       "      <td>4177.000000</td>\n",
       "      <td>4177.000000</td>\n",
       "    </tr>\n",
       "    <tr>\n",
       "      <th>mean</th>\n",
       "      <td>0.523992</td>\n",
       "      <td>0.408246</td>\n",
       "      <td>0.139516</td>\n",
       "      <td>0.826623</td>\n",
       "      <td>0.359367</td>\n",
       "      <td>0.180594</td>\n",
       "      <td>0.239023</td>\n",
       "      <td>9.933684</td>\n",
       "    </tr>\n",
       "    <tr>\n",
       "      <th>std</th>\n",
       "      <td>0.120093</td>\n",
       "      <td>0.098137</td>\n",
       "      <td>0.041827</td>\n",
       "      <td>0.484521</td>\n",
       "      <td>0.221963</td>\n",
       "      <td>0.109614</td>\n",
       "      <td>0.138108</td>\n",
       "      <td>3.224169</td>\n",
       "    </tr>\n",
       "    <tr>\n",
       "      <th>min</th>\n",
       "      <td>0.075000</td>\n",
       "      <td>0.055000</td>\n",
       "      <td>0.000000</td>\n",
       "      <td>0.002000</td>\n",
       "      <td>0.001000</td>\n",
       "      <td>0.000500</td>\n",
       "      <td>0.001500</td>\n",
       "      <td>1.000000</td>\n",
       "    </tr>\n",
       "    <tr>\n",
       "      <th>25%</th>\n",
       "      <td>0.450000</td>\n",
       "      <td>0.350000</td>\n",
       "      <td>0.115000</td>\n",
       "      <td>0.447500</td>\n",
       "      <td>0.186000</td>\n",
       "      <td>0.093500</td>\n",
       "      <td>0.131500</td>\n",
       "      <td>8.000000</td>\n",
       "    </tr>\n",
       "    <tr>\n",
       "      <th>50%</th>\n",
       "      <td>0.545000</td>\n",
       "      <td>0.425000</td>\n",
       "      <td>0.140000</td>\n",
       "      <td>0.798500</td>\n",
       "      <td>0.336000</td>\n",
       "      <td>0.171000</td>\n",
       "      <td>0.235000</td>\n",
       "      <td>9.000000</td>\n",
       "    </tr>\n",
       "    <tr>\n",
       "      <th>75%</th>\n",
       "      <td>0.615000</td>\n",
       "      <td>0.480000</td>\n",
       "      <td>0.165000</td>\n",
       "      <td>1.141500</td>\n",
       "      <td>0.502000</td>\n",
       "      <td>0.253000</td>\n",
       "      <td>0.325000</td>\n",
       "      <td>11.000000</td>\n",
       "    </tr>\n",
       "    <tr>\n",
       "      <th>max</th>\n",
       "      <td>0.815000</td>\n",
       "      <td>0.650000</td>\n",
       "      <td>1.130000</td>\n",
       "      <td>2.825500</td>\n",
       "      <td>1.488000</td>\n",
       "      <td>0.760000</td>\n",
       "      <td>1.005000</td>\n",
       "      <td>29.000000</td>\n",
       "    </tr>\n",
       "  </tbody>\n",
       "</table>\n",
       "</div>"
      ],
      "text/plain": [
       "            length     diameter       height  whole_weight  shucked_weight  \\\n",
       "count  4177.000000  4177.000000  4177.000000   4177.000000     4177.000000   \n",
       "mean      0.523992     0.408246     0.139516      0.826623        0.359367   \n",
       "std       0.120093     0.098137     0.041827      0.484521        0.221963   \n",
       "min       0.075000     0.055000     0.000000      0.002000        0.001000   \n",
       "25%       0.450000     0.350000     0.115000      0.447500        0.186000   \n",
       "50%       0.545000     0.425000     0.140000      0.798500        0.336000   \n",
       "75%       0.615000     0.480000     0.165000      1.141500        0.502000   \n",
       "max       0.815000     0.650000     1.130000      2.825500        1.488000   \n",
       "\n",
       "       viscera_weight  shell_weight        rings  \n",
       "count     4177.000000   4177.000000  4177.000000  \n",
       "mean         0.180594      0.239023     9.933684  \n",
       "std          0.109614      0.138108     3.224169  \n",
       "min          0.000500      0.001500     1.000000  \n",
       "25%          0.093500      0.131500     8.000000  \n",
       "50%          0.171000      0.235000     9.000000  \n",
       "75%          0.253000      0.325000    11.000000  \n",
       "max          0.760000      1.005000    29.000000  "
      ]
     },
     "execution_count": 16,
     "metadata": {},
     "output_type": "execute_result"
    }
   ],
   "source": [
    "df.describe()"
   ]
  },
  {
   "cell_type": "markdown",
   "id": "a9238b6a",
   "metadata": {},
   "source": [
    "Описание числовых значений. Видно, что максимальное `rings` равно 29, медиана равна 9 и минимальное 1. У `height` максимальное значение 1.13, хотя значени кватиля 75 всего 0.165. Похоже на выброс."
   ]
  },
  {
   "cell_type": "code",
   "execution_count": 17,
   "id": "d959c201",
   "metadata": {},
   "outputs": [
    {
     "data": {
      "text/plain": [
       "<AxesSubplot:xlabel='length', ylabel='Count'>"
      ]
     },
     "execution_count": 17,
     "metadata": {},
     "output_type": "execute_result"
    },
    {
     "data": {
      "image/png": "[encoded data removed]",
      "text/plain": [
       "<Figure size 648x432 with 1 Axes>"
      ]
     },
     "metadata": {
      "needs_background": "light"
     },
     "output_type": "display_data"
    }
   ],
   "source": [
    "plt.figure(figsize=(9, 6))\n",
    "sns.histplot(data=df, x='length')"
   ]
  },
  {
   "cell_type": "markdown",
   "id": "1d490cdd",
   "metadata": {},
   "source": [
    "На графике по `length` видно, что большинство наблюдений легли в промежутке 0.45 - 0.7"
   ]
  },
  {
   "cell_type": "code",
   "execution_count": 18,
   "id": "71d54070",
   "metadata": {},
   "outputs": [
    {
     "data": {
      "text/plain": [
       "<AxesSubplot:xlabel='diameter', ylabel='Count'>"
      ]
     },
     "execution_count": 18,
     "metadata": {},
     "output_type": "execute_result"
    },
    {
     "data": {
      "image/png": "[encoded data removed]",
      "text/plain": [
       "<Figure size 648x432 with 1 Axes>"
      ]
     },
     "metadata": {
      "needs_background": "light"
     },
     "output_type": "display_data"
    }
   ],
   "source": [
    "plt.figure(figsize=(9, 6))\n",
    "sns.histplot(data=df, x='diameter')"
   ]
  },
  {
   "cell_type": "markdown",
   "id": "f673b122",
   "metadata": {},
   "source": [
    "На графике `diametr` видно, что есть заметное большинство в значении 0.42"
   ]
  },
  {
   "cell_type": "code",
   "execution_count": 19,
   "id": "df186dfd",
   "metadata": {},
   "outputs": [
    {
     "data": {
      "text/plain": [
       "<AxesSubplot:xlabel='height', ylabel='Count'>"
      ]
     },
     "execution_count": 19,
     "metadata": {},
     "output_type": "execute_result"
    },
    {
     "data": {
      "image/png": "[encoded data removed]",
      "text/plain": [
       "<Figure size 648x432 with 1 Axes>"
      ]
     },
     "metadata": {
      "needs_background": "light"
     },
     "output_type": "display_data"
    }
   ],
   "source": [
    "plt.figure(figsize=(9, 6))\n",
    "sns.histplot(data=df, x='height')"
   ]
  },
  {
   "cell_type": "markdown",
   "id": "cd4a3207",
   "metadata": {},
   "source": [
    "Как и писал ранее, есть заметный выброс `height`, который лёг после 1. Возможно его следует удалить, так как данное наблюдение будет зашумлять прогноз. Но это не точно."
   ]
  },
  {
   "cell_type": "code",
   "execution_count": 20,
   "id": "4c47481b",
   "metadata": {},
   "outputs": [
    {
     "data": {
      "text/plain": [
       "<AxesSubplot:xlabel='whole_weight', ylabel='Count'>"
      ]
     },
     "execution_count": 20,
     "metadata": {},
     "output_type": "execute_result"
    },
    {
     "data": {
      "image/png": "[encoded data removed]",
      "text/plain": [
       "<Figure size 648x432 with 1 Axes>"
      ]
     },
     "metadata": {
      "needs_background": "light"
     },
     "output_type": "display_data"
    }
   ],
   "source": [
    "plt.figure(figsize=(9, 6))\n",
    "sns.histplot(data=df, x='whole_weight')"
   ]
  },
  {
   "cell_type": "markdown",
   "id": "20940697",
   "metadata": {},
   "source": [
    "По `whole weight` видно, что чем больше значение увеличивается, тем реже встречаются наблюдения."
   ]
  },
  {
   "cell_type": "code",
   "execution_count": 21,
   "id": "84583bc9",
   "metadata": {},
   "outputs": [
    {
     "data": {
      "text/plain": [
       "<AxesSubplot:xlabel='shucked_weight', ylabel='Count'>"
      ]
     },
     "execution_count": 21,
     "metadata": {},
     "output_type": "execute_result"
    },
    {
     "data": {
      "image/png": "[encoded data removed]",
      "text/plain": [
       "<Figure size 648x432 with 1 Axes>"
      ]
     },
     "metadata": {
      "needs_background": "light"
     },
     "output_type": "display_data"
    }
   ],
   "source": [
    "plt.figure(figsize=(9, 6))\n",
    "sns.histplot(data=df, x='shucked_weight')"
   ]
  },
  {
   "cell_type": "markdown",
   "id": "711839e3",
   "metadata": {},
   "source": [
    "По `shucked_weight` видно, что чем больше значение увеличивается, тем реже встречаются наблюдения."
   ]
  },
  {
   "cell_type": "code",
   "execution_count": 22,
   "id": "9e595bcb",
   "metadata": {},
   "outputs": [
    {
     "data": {
      "text/plain": [
       "<AxesSubplot:xlabel='viscera_weight', ylabel='Count'>"
      ]
     },
     "execution_count": 22,
     "metadata": {},
     "output_type": "execute_result"
    },
    {
     "data": {
      "image/png": "[encoded data removed]",
      "text/plain": [
       "<Figure size 648x432 with 1 Axes>"
      ]
     },
     "metadata": {
      "needs_background": "light"
     },
     "output_type": "display_data"
    }
   ],
   "source": [
    "plt.figure(figsize=(9, 6))\n",
    "sns.histplot(data=df, x='viscera_weight')"
   ]
  },
  {
   "cell_type": "code",
   "execution_count": 23,
   "id": "285bc248",
   "metadata": {},
   "outputs": [
    {
     "data": {
      "text/plain": [
       "<AxesSubplot:xlabel='shell_weight', ylabel='Count'>"
      ]
     },
     "execution_count": 23,
     "metadata": {},
     "output_type": "execute_result"
    },
    {
     "data": {
      "image/png": "[encoded data removed]",
      "text/plain": [
       "<Figure size 648x432 with 1 Axes>"
      ]
     },
     "metadata": {
      "needs_background": "light"
     },
     "output_type": "display_data"
    }
   ],
   "source": [
    "plt.figure(figsize=(9, 6))\n",
    "sns.histplot(data=df, x='shell_weight')"
   ]
  },
  {
   "cell_type": "markdown",
   "id": "fa0589bc",
   "metadata": {},
   "source": [
    "По последним двум графикам такая же ситуация. Чем больше растет значение, тем ниже встречаются наблюдения."
   ]
  },
  {
   "cell_type": "code",
   "execution_count": 30,
   "id": "81c0dc00",
   "metadata": {},
   "outputs": [
    {
     "data": {
      "text/html": [
       "<div>\n",
       "<style scoped>\n",
       "    .dataframe tbody tr th:only-of-type {\n",
       "        vertical-align: middle;\n",
       "    }\n",
       "\n",
       "    .dataframe tbody tr th {\n",
       "        vertical-align: top;\n",
       "    }\n",
       "\n",
       "    .dataframe thead th {\n",
       "        text-align: right;\n",
       "    }\n",
       "</style>\n",
       "<table border=\"1\" class=\"dataframe\">\n",
       "  <thead>\n",
       "    <tr style=\"text-align: right;\">\n",
       "      <th></th>\n",
       "      <th>sex</th>\n",
       "      <th>length</th>\n",
       "      <th>diameter</th>\n",
       "      <th>height</th>\n",
       "      <th>whole_weight</th>\n",
       "      <th>shucked_weight</th>\n",
       "      <th>viscera_weight</th>\n",
       "      <th>shell_weight</th>\n",
       "      <th>rings</th>\n",
       "    </tr>\n",
       "  </thead>\n",
       "  <tbody>\n",
       "    <tr>\n",
       "      <th>2051</th>\n",
       "      <td>F</td>\n",
       "      <td>0.455</td>\n",
       "      <td>0.355</td>\n",
       "      <td>1.13</td>\n",
       "      <td>0.594</td>\n",
       "      <td>0.332</td>\n",
       "      <td>0.116</td>\n",
       "      <td>0.1335</td>\n",
       "      <td>8</td>\n",
       "    </tr>\n",
       "  </tbody>\n",
       "</table>\n",
       "</div>"
      ],
      "text/plain": [
       "     sex  length  diameter  height  whole_weight  shucked_weight  \\\n",
       "2051   F   0.455     0.355    1.13         0.594           0.332   \n",
       "\n",
       "      viscera_weight  shell_weight  rings  \n",
       "2051           0.116        0.1335      8  "
      ]
     },
     "execution_count": 30,
     "metadata": {},
     "output_type": "execute_result"
    }
   ],
   "source": [
    "df[df.height == df.height.max()]"
   ]
  },
  {
   "cell_type": "markdown",
   "id": "8f991748",
   "metadata": {},
   "source": [
    "Интересно было посмотреть на наблюдение с максимальной высотой. Всё таки склоняюсь, что значение неверное."
   ]
  },
  {
   "cell_type": "code",
   "execution_count": 25,
   "id": "7bf78eee",
   "metadata": {},
   "outputs": [
    {
     "data": {
      "text/plain": [
       "<AxesSubplot:xlabel='rings', ylabel='Count'>"
      ]
     },
     "execution_count": 25,
     "metadata": {},
     "output_type": "execute_result"
    },
    {
     "data": {
      "image/png": "[encoded data removed]",
      "text/plain": [
       "<Figure size 648x432 with 1 Axes>"
      ]
     },
     "metadata": {
      "needs_background": "light"
     },
     "output_type": "display_data"
    }
   ],
   "source": [
    "plt.figure(figsize=(9, 6))\n",
    "sns.histplot(data=df, x='rings', kde=True)"
   ]
  },
  {
   "cell_type": "markdown",
   "id": "a973eba1",
   "metadata": {},
   "source": [
    "По графику `rings` видно, что распределение нормальное. Большинство наблюдений собрались вокруг среднего значения."
   ]
  },
  {
   "cell_type": "code",
   "execution_count": 27,
   "id": "6f4a7b23",
   "metadata": {},
   "outputs": [
    {
     "data": {
      "text/plain": [
       "<AxesSubplot:xlabel='rings'>"
      ]
     },
     "execution_count": 27,
     "metadata": {},
     "output_type": "execute_result"
    },
    {
     "data": {
      "image/png": "[encoded data removed]",
      "text/plain": [
       "<Figure size 648x432 with 1 Axes>"
      ]
     },
     "metadata": {
      "needs_background": "light"
     },
     "output_type": "display_data"
    }
   ],
   "source": [
    "plt.figure(figsize=(9, 6))\n",
    "sns.boxplot(data=df, x=\"rings\")"
   ]
  },
  {
   "cell_type": "markdown",
   "id": "9690aa1e",
   "metadata": {},
   "source": [
    "Так же, судя по боксплоту, видны выбросы у `rings`. Возможно это будет проблемой, так как будем мы прогнозировать имеено `rings`. Но это не точно."
   ]
  },
  {
   "cell_type": "code",
   "execution_count": 31,
   "id": "f835fd1d",
   "metadata": {},
   "outputs": [
    {
     "data": {
      "text/plain": [
       "<AxesSubplot:>"
      ]
     },
     "execution_count": 31,
     "metadata": {},
     "output_type": "execute_result"
    },
    {
     "data": {
      "image/png": "[encoded data removed]",
      "text/plain": [
       "<Figure size 720x360 with 2 Axes>"
      ]
     },
     "metadata": {
      "needs_background": "light"
     },
     "output_type": "display_data"
    }
   ],
   "source": [
    "plt.figure(figsize=(10, 5))\n",
    "corr = df.corr()\n",
    "sns.heatmap(corr, cmap='BrBG', annot=True)"
   ]
  },
  {
   "cell_type": "markdown",
   "id": "c5a04471",
   "metadata": {},
   "source": [
    "Мы видим, что почти всё между собой сильно коррелирует, кроме нашей цели."
   ]
  },
  {
   "cell_type": "code",
   "execution_count": 32,
   "id": "b8529091",
   "metadata": {},
   "outputs": [],
   "source": [
    "from scipy.stats import f_oneway"
   ]
  },
  {
   "cell_type": "code",
   "execution_count": 34,
   "id": "bfcc0a7d",
   "metadata": {},
   "outputs": [
    {
     "name": "stdout",
     "output_type": "stream",
     "text": [
      "P-Value for Anova is:  2.35303895865748e-182\n"
     ]
    }
   ],
   "source": [
    "CategoryGroupLists = df.groupby('sex')['rings'].apply(list)\n",
    "AnovaResults = f_oneway(*CategoryGroupLists)\n",
    "print('P-Value for Anova is: ', AnovaResults[1])"
   ]
  },
  {
   "cell_type": "code",
   "execution_count": 35,
   "id": "be8072b0",
   "metadata": {},
   "outputs": [
    {
     "name": "stdout",
     "output_type": "stream",
     "text": [
      "Features are correlated\n"
     ]
    }
   ],
   "source": [
    "if AnovaResults[1] >= 0.05:\n",
    "    print('Features are NOT correlated')\n",
    "else:\n",
    "    print('Features are correlated')"
   ]
  },
  {
   "cell_type": "markdown",
   "id": "ca8cc8d5",
   "metadata": {},
   "source": [
    "One-Way ANOVA (однофакторный анализ дисперсии) - используется для сравнения средних значений двух или более групп, которые связаны с одним категориальным фактором. В нашем примере 3 группы по атрибуту `sex`. Связь есть между гендером и возврастом морского ушка."
   ]
  },
  {
   "cell_type": "markdown",
   "id": "9c7f4dba",
   "metadata": {},
   "source": [
    "# Вывод"
   ]
  },
  {
   "cell_type": "markdown",
   "id": "779120a2",
   "metadata": {},
   "source": [
    "Из анализа данных можно сказать, что данные в каком-то смысле идеальные для прогнозирования, несмотря на мелкие выбросы в `rings` и `height`. У целевой переменной нормальное распределение. Корреляция средняя со всеми атрибутами, примерно 0.5 - 0.6."
   ]
  },
  {
   "cell_type": "markdown",
   "id": "413f8491",
   "metadata": {},
   "source": [
    "# Сравнение Pandas с Polars"
   ]
  },
  {
   "cell_type": "code",
   "execution_count": 38,
   "id": "1f312436",
   "metadata": {},
   "outputs": [],
   "source": [
    "df_big = df.copy()"
   ]
  },
  {
   "cell_type": "markdown",
   "id": "3601cfc9",
   "metadata": {},
   "source": [
    "Увеличим наш датасет до 1_000_000 строк."
   ]
  },
  {
   "cell_type": "code",
   "execution_count": 39,
   "id": "cfdc9d23",
   "metadata": {},
   "outputs": [
    {
     "data": {
      "text/plain": [
       "(1048427, 9)"
      ]
     },
     "execution_count": 39,
     "metadata": {},
     "output_type": "execute_result"
    }
   ],
   "source": [
    "for i in range(250):\n",
    "    df_big = pd.concat([df_big, df])\n",
    "\n",
    "df_big.shape"
   ]
  },
  {
   "cell_type": "code",
   "execution_count": 40,
   "id": "19026b47",
   "metadata": {},
   "outputs": [],
   "source": [
    "df_big.to_csv('abalone_big_df.csv', index=False)"
   ]
  },
  {
   "cell_type": "code",
   "execution_count": 41,
   "id": "e7a157ce",
   "metadata": {},
   "outputs": [
    {
     "name": "stdout",
     "output_type": "stream",
     "text": [
      "CPU times: total: 1.36 s\n",
      "Wall time: 451 ms\n"
     ]
    }
   ],
   "source": [
    "%%time\n",
    "df_pl = pl.read_csv('abalone_big_df.csv')"
   ]
  },
  {
   "cell_type": "code",
   "execution_count": 42,
   "id": "13a8c03f",
   "metadata": {},
   "outputs": [
    {
     "name": "stdout",
     "output_type": "stream",
     "text": [
      "CPU times: total: 1.62 s\n",
      "Wall time: 1.62 s\n"
     ]
    }
   ],
   "source": [
    "%%time\n",
    "df_pd = pd.read_csv('abalone_big_df.csv')"
   ]
  },
  {
   "cell_type": "markdown",
   "id": "eaa73320",
   "metadata": {},
   "source": [
    "Загрузка данных у Polars быстрее."
   ]
  },
  {
   "cell_type": "code",
   "execution_count": 46,
   "id": "8f199c9c",
   "metadata": {},
   "outputs": [
    {
     "name": "stdout",
     "output_type": "stream",
     "text": [
      "CPU times: total: 31.2 ms\n",
      "Wall time: 48.6 ms\n"
     ]
    },
    {
     "data": {
      "text/html": [
       "<div><style>\n",
       ".dataframe > thead > tr,\n",
       ".dataframe > tbody > tr {\n",
       "  text-align: right;\n",
       "  white-space: pre-wrap;\n",
       "}\n",
       "</style>\n",
       "<small>shape: (685_230, 9)</small><table border=\"1\" class=\"dataframe\"><thead><tr><th>sex</th><th>length</th><th>diameter</th><th>height</th><th>whole_weight</th><th>shucked_weight</th><th>viscera_weight</th><th>shell_weight</th><th>rings</th></tr><tr><td>str</td><td>f64</td><td>f64</td><td>f64</td><td>f64</td><td>f64</td><td>f64</td><td>f64</td><td>i64</td></tr></thead><tbody><tr><td>&quot;M&quot;</td><td>0.35</td><td>0.265</td><td>0.09</td><td>0.2255</td><td>0.0995</td><td>0.0485</td><td>0.07</td><td>7</td></tr><tr><td>&quot;F&quot;</td><td>0.53</td><td>0.42</td><td>0.135</td><td>0.677</td><td>0.2565</td><td>0.1415</td><td>0.21</td><td>9</td></tr><tr><td>&quot;M&quot;</td><td>0.44</td><td>0.365</td><td>0.125</td><td>0.7985</td><td>0.2155</td><td>0.114</td><td>0.155</td><td>10</td></tr><tr><td>&quot;I&quot;</td><td>0.33</td><td>0.255</td><td>0.08</td><td>0.205</td><td>0.0895</td><td>0.0395</td><td>0.055</td><td>7</td></tr><tr><td>&quot;I&quot;</td><td>0.425</td><td>0.3</td><td>0.095</td><td>0.3515</td><td>0.141</td><td>0.0775</td><td>0.12</td><td>8</td></tr><tr><td>&quot;M&quot;</td><td>0.475</td><td>0.37</td><td>0.125</td><td>0.5095</td><td>0.2165</td><td>0.1125</td><td>0.165</td><td>9</td></tr><tr><td>&quot;M&quot;</td><td>0.43</td><td>0.35</td><td>0.11</td><td>0.406</td><td>0.1675</td><td>0.081</td><td>0.135</td><td>10</td></tr><tr><td>&quot;F&quot;</td><td>0.535</td><td>0.405</td><td>0.145</td><td>0.6845</td><td>0.2725</td><td>0.171</td><td>0.205</td><td>10</td></tr><tr><td>&quot;F&quot;</td><td>0.47</td><td>0.355</td><td>0.1</td><td>0.4755</td><td>0.1675</td><td>0.0805</td><td>0.185</td><td>10</td></tr><tr><td>&quot;I&quot;</td><td>0.355</td><td>0.28</td><td>0.085</td><td>0.2905</td><td>0.095</td><td>0.0395</td><td>0.115</td><td>7</td></tr><tr><td>&quot;F&quot;</td><td>0.44</td><td>0.34</td><td>0.1</td><td>0.451</td><td>0.188</td><td>0.087</td><td>0.13</td><td>10</td></tr><tr><td>&quot;M&quot;</td><td>0.365</td><td>0.295</td><td>0.08</td><td>0.2555</td><td>0.097</td><td>0.043</td><td>0.1</td><td>7</td></tr><tr><td>&hellip;</td><td>&hellip;</td><td>&hellip;</td><td>&hellip;</td><td>&hellip;</td><td>&hellip;</td><td>&hellip;</td><td>&hellip;</td><td>&hellip;</td></tr><tr><td>&quot;I&quot;</td><td>0.39</td><td>0.425</td><td>0.085</td><td>0.344</td><td>0.181</td><td>0.0695</td><td>0.079</td><td>7</td></tr><tr><td>&quot;I&quot;</td><td>0.39</td><td>0.29</td><td>0.1</td><td>0.2845</td><td>0.1255</td><td>0.0635</td><td>0.235</td><td>7</td></tr><tr><td>&quot;I&quot;</td><td>0.405</td><td>0.3</td><td>0.085</td><td>0.3035</td><td>0.15</td><td>0.0505</td><td>0.088</td><td>7</td></tr><tr><td>&quot;I&quot;</td><td>0.475</td><td>0.365</td><td>0.115</td><td>0.499</td><td>0.232</td><td>0.0885</td><td>0.156</td><td>10</td></tr><tr><td>&quot;M&quot;</td><td>0.5</td><td>0.38</td><td>0.125</td><td>0.577</td><td>0.269</td><td>0.1265</td><td>0.1535</td><td>9</td></tr><tr><td>&quot;F&quot;</td><td>0.515</td><td>0.4</td><td>0.125</td><td>0.615</td><td>0.2865</td><td>0.123</td><td>0.1765</td><td>8</td></tr><tr><td>&quot;M&quot;</td><td>0.52</td><td>0.385</td><td>0.165</td><td>0.791</td><td>0.375</td><td>0.18</td><td>0.1815</td><td>10</td></tr><tr><td>&quot;M&quot;</td><td>0.55</td><td>0.43</td><td>0.13</td><td>0.8395</td><td>0.3155</td><td>0.1955</td><td>0.2405</td><td>10</td></tr><tr><td>&quot;M&quot;</td><td>0.56</td><td>0.43</td><td>0.155</td><td>0.8675</td><td>0.4</td><td>0.172</td><td>0.229</td><td>8</td></tr><tr><td>&quot;M&quot;</td><td>0.59</td><td>0.44</td><td>0.135</td><td>0.966</td><td>0.439</td><td>0.2145</td><td>0.2605</td><td>10</td></tr><tr><td>&quot;M&quot;</td><td>0.6</td><td>0.475</td><td>0.205</td><td>1.176</td><td>0.5255</td><td>0.2875</td><td>0.308</td><td>9</td></tr><tr><td>&quot;F&quot;</td><td>0.625</td><td>0.485</td><td>0.15</td><td>1.0945</td><td>0.531</td><td>0.261</td><td>0.296</td><td>10</td></tr></tbody></table></div>"
      ],
      "text/plain": [
       "shape: (685_230, 9)\n",
       "┌─────┬────────┬──────────┬────────┬───┬────────────────┬────────────────┬──────────────┬───────┐\n",
       "│ sex ┆ length ┆ diameter ┆ height ┆ … ┆ shucked_weight ┆ viscera_weight ┆ shell_weight ┆ rings │\n",
       "│ --- ┆ ---    ┆ ---      ┆ ---    ┆   ┆ ---            ┆ ---            ┆ ---          ┆ ---   │\n",
       "│ str ┆ f64    ┆ f64      ┆ f64    ┆   ┆ f64            ┆ f64            ┆ f64          ┆ i64   │\n",
       "╞═════╪════════╪══════════╪════════╪═══╪════════════════╪════════════════╪══════════════╪═══════╡\n",
       "│ M   ┆ 0.35   ┆ 0.265    ┆ 0.09   ┆ … ┆ 0.0995         ┆ 0.0485         ┆ 0.07         ┆ 7     │\n",
       "│ F   ┆ 0.53   ┆ 0.42     ┆ 0.135  ┆ … ┆ 0.2565         ┆ 0.1415         ┆ 0.21         ┆ 9     │\n",
       "│ M   ┆ 0.44   ┆ 0.365    ┆ 0.125  ┆ … ┆ 0.2155         ┆ 0.114          ┆ 0.155        ┆ 10    │\n",
       "│ I   ┆ 0.33   ┆ 0.255    ┆ 0.08   ┆ … ┆ 0.0895         ┆ 0.0395         ┆ 0.055        ┆ 7     │\n",
       "│ …   ┆ …      ┆ …        ┆ …      ┆ … ┆ …              ┆ …              ┆ …            ┆ …     │\n",
       "│ M   ┆ 0.56   ┆ 0.43     ┆ 0.155  ┆ … ┆ 0.4            ┆ 0.172          ┆ 0.229        ┆ 8     │\n",
       "│ M   ┆ 0.59   ┆ 0.44     ┆ 0.135  ┆ … ┆ 0.439          ┆ 0.2145         ┆ 0.2605       ┆ 10    │\n",
       "│ M   ┆ 0.6    ┆ 0.475    ┆ 0.205  ┆ … ┆ 0.5255         ┆ 0.2875         ┆ 0.308        ┆ 9     │\n",
       "│ F   ┆ 0.625  ┆ 0.485    ┆ 0.15   ┆ … ┆ 0.531          ┆ 0.261          ┆ 0.296        ┆ 10    │\n",
       "└─────┴────────┴──────────┴────────┴───┴────────────────┴────────────────┴──────────────┴───────┘"
      ]
     },
     "execution_count": 46,
     "metadata": {},
     "output_type": "execute_result"
    }
   ],
   "source": [
    "%%time\n",
    "df_pl.filter(pl.col('rings') < 10.5)"
   ]
  },
  {
   "cell_type": "code",
   "execution_count": 48,
   "id": "9c47f479",
   "metadata": {},
   "outputs": [
    {
     "name": "stdout",
     "output_type": "stream",
     "text": [
      "CPU times: total: 93.8 ms\n",
      "Wall time: 69.7 ms\n"
     ]
    },
    {
     "data": {
      "text/html": [
       "<div>\n",
       "<style scoped>\n",
       "    .dataframe tbody tr th:only-of-type {\n",
       "        vertical-align: middle;\n",
       "    }\n",
       "\n",
       "    .dataframe tbody tr th {\n",
       "        vertical-align: top;\n",
       "    }\n",
       "\n",
       "    .dataframe thead th {\n",
       "        text-align: right;\n",
       "    }\n",
       "</style>\n",
       "<table border=\"1\" class=\"dataframe\">\n",
       "  <thead>\n",
       "    <tr style=\"text-align: right;\">\n",
       "      <th></th>\n",
       "      <th>sex</th>\n",
       "      <th>length</th>\n",
       "      <th>diameter</th>\n",
       "      <th>height</th>\n",
       "      <th>whole_weight</th>\n",
       "      <th>shucked_weight</th>\n",
       "      <th>viscera_weight</th>\n",
       "      <th>shell_weight</th>\n",
       "      <th>rings</th>\n",
       "    </tr>\n",
       "  </thead>\n",
       "  <tbody>\n",
       "    <tr>\n",
       "      <th>1</th>\n",
       "      <td>M</td>\n",
       "      <td>0.350</td>\n",
       "      <td>0.265</td>\n",
       "      <td>0.090</td>\n",
       "      <td>0.2255</td>\n",
       "      <td>0.0995</td>\n",
       "      <td>0.0485</td>\n",
       "      <td>0.0700</td>\n",
       "      <td>7</td>\n",
       "    </tr>\n",
       "    <tr>\n",
       "      <th>2</th>\n",
       "      <td>F</td>\n",
       "      <td>0.530</td>\n",
       "      <td>0.420</td>\n",
       "      <td>0.135</td>\n",
       "      <td>0.6770</td>\n",
       "      <td>0.2565</td>\n",
       "      <td>0.1415</td>\n",
       "      <td>0.2100</td>\n",
       "      <td>9</td>\n",
       "    </tr>\n",
       "    <tr>\n",
       "      <th>3</th>\n",
       "      <td>M</td>\n",
       "      <td>0.440</td>\n",
       "      <td>0.365</td>\n",
       "      <td>0.125</td>\n",
       "      <td>0.7985</td>\n",
       "      <td>0.2155</td>\n",
       "      <td>0.1140</td>\n",
       "      <td>0.1550</td>\n",
       "      <td>10</td>\n",
       "    </tr>\n",
       "    <tr>\n",
       "      <th>4</th>\n",
       "      <td>I</td>\n",
       "      <td>0.330</td>\n",
       "      <td>0.255</td>\n",
       "      <td>0.080</td>\n",
       "      <td>0.2050</td>\n",
       "      <td>0.0895</td>\n",
       "      <td>0.0395</td>\n",
       "      <td>0.0550</td>\n",
       "      <td>7</td>\n",
       "    </tr>\n",
       "    <tr>\n",
       "      <th>5</th>\n",
       "      <td>I</td>\n",
       "      <td>0.425</td>\n",
       "      <td>0.300</td>\n",
       "      <td>0.095</td>\n",
       "      <td>0.3515</td>\n",
       "      <td>0.1410</td>\n",
       "      <td>0.0775</td>\n",
       "      <td>0.1200</td>\n",
       "      <td>8</td>\n",
       "    </tr>\n",
       "    <tr>\n",
       "      <th>...</th>\n",
       "      <td>...</td>\n",
       "      <td>...</td>\n",
       "      <td>...</td>\n",
       "      <td>...</td>\n",
       "      <td>...</td>\n",
       "      <td>...</td>\n",
       "      <td>...</td>\n",
       "      <td>...</td>\n",
       "      <td>...</td>\n",
       "    </tr>\n",
       "    <tr>\n",
       "      <th>1048420</th>\n",
       "      <td>M</td>\n",
       "      <td>0.550</td>\n",
       "      <td>0.430</td>\n",
       "      <td>0.130</td>\n",
       "      <td>0.8395</td>\n",
       "      <td>0.3155</td>\n",
       "      <td>0.1955</td>\n",
       "      <td>0.2405</td>\n",
       "      <td>10</td>\n",
       "    </tr>\n",
       "    <tr>\n",
       "      <th>1048421</th>\n",
       "      <td>M</td>\n",
       "      <td>0.560</td>\n",
       "      <td>0.430</td>\n",
       "      <td>0.155</td>\n",
       "      <td>0.8675</td>\n",
       "      <td>0.4000</td>\n",
       "      <td>0.1720</td>\n",
       "      <td>0.2290</td>\n",
       "      <td>8</td>\n",
       "    </tr>\n",
       "    <tr>\n",
       "      <th>1048423</th>\n",
       "      <td>M</td>\n",
       "      <td>0.590</td>\n",
       "      <td>0.440</td>\n",
       "      <td>0.135</td>\n",
       "      <td>0.9660</td>\n",
       "      <td>0.4390</td>\n",
       "      <td>0.2145</td>\n",
       "      <td>0.2605</td>\n",
       "      <td>10</td>\n",
       "    </tr>\n",
       "    <tr>\n",
       "      <th>1048424</th>\n",
       "      <td>M</td>\n",
       "      <td>0.600</td>\n",
       "      <td>0.475</td>\n",
       "      <td>0.205</td>\n",
       "      <td>1.1760</td>\n",
       "      <td>0.5255</td>\n",
       "      <td>0.2875</td>\n",
       "      <td>0.3080</td>\n",
       "      <td>9</td>\n",
       "    </tr>\n",
       "    <tr>\n",
       "      <th>1048425</th>\n",
       "      <td>F</td>\n",
       "      <td>0.625</td>\n",
       "      <td>0.485</td>\n",
       "      <td>0.150</td>\n",
       "      <td>1.0945</td>\n",
       "      <td>0.5310</td>\n",
       "      <td>0.2610</td>\n",
       "      <td>0.2960</td>\n",
       "      <td>10</td>\n",
       "    </tr>\n",
       "  </tbody>\n",
       "</table>\n",
       "<p>685230 rows × 9 columns</p>\n",
       "</div>"
      ],
      "text/plain": [
       "        sex  length  diameter  height  whole_weight  shucked_weight  \\\n",
       "1         M   0.350     0.265   0.090        0.2255          0.0995   \n",
       "2         F   0.530     0.420   0.135        0.6770          0.2565   \n",
       "3         M   0.440     0.365   0.125        0.7985          0.2155   \n",
       "4         I   0.330     0.255   0.080        0.2050          0.0895   \n",
       "5         I   0.425     0.300   0.095        0.3515          0.1410   \n",
       "...      ..     ...       ...     ...           ...             ...   \n",
       "1048420   M   0.550     0.430   0.130        0.8395          0.3155   \n",
       "1048421   M   0.560     0.430   0.155        0.8675          0.4000   \n",
       "1048423   M   0.590     0.440   0.135        0.9660          0.4390   \n",
       "1048424   M   0.600     0.475   0.205        1.1760          0.5255   \n",
       "1048425   F   0.625     0.485   0.150        1.0945          0.5310   \n",
       "\n",
       "         viscera_weight  shell_weight  rings  \n",
       "1                0.0485        0.0700      7  \n",
       "2                0.1415        0.2100      9  \n",
       "3                0.1140        0.1550     10  \n",
       "4                0.0395        0.0550      7  \n",
       "5                0.0775        0.1200      8  \n",
       "...                 ...           ...    ...  \n",
       "1048420          0.1955        0.2405     10  \n",
       "1048421          0.1720        0.2290      8  \n",
       "1048423          0.2145        0.2605     10  \n",
       "1048424          0.2875        0.3080      9  \n",
       "1048425          0.2610        0.2960     10  \n",
       "\n",
       "[685230 rows x 9 columns]"
      ]
     },
     "execution_count": 48,
     "metadata": {},
     "output_type": "execute_result"
    }
   ],
   "source": [
    "%%time\n",
    "df_pd[df_pd['rings'] < 10.5]"
   ]
  },
  {
   "cell_type": "markdown",
   "id": "9d942864",
   "metadata": {},
   "source": [
    "Фтльтрация быстрее у Polars"
   ]
  },
  {
   "cell_type": "code",
   "execution_count": 52,
   "id": "81089157",
   "metadata": {},
   "outputs": [
    {
     "name": "stdout",
     "output_type": "stream",
     "text": [
      "CPU times: total: 156 ms\n",
      "Wall time: 48.6 ms\n"
     ]
    },
    {
     "data": {
      "text/html": [
       "<div><style>\n",
       ".dataframe > thead > tr,\n",
       ".dataframe > tbody > tr {\n",
       "  text-align: right;\n",
       "  white-space: pre-wrap;\n",
       "}\n",
       "</style>\n",
       "<small>shape: (3, 2)</small><table border=\"1\" class=\"dataframe\"><thead><tr><th>sex</th><th>rings</th></tr><tr><td>str</td><td>f64</td></tr></thead><tbody><tr><td>&quot;I&quot;</td><td>7.872257</td></tr><tr><td>&quot;F&quot;</td><td>11.001376</td></tr><tr><td>&quot;M&quot;</td><td>10.678645</td></tr></tbody></table></div>"
      ],
      "text/plain": [
       "shape: (3, 2)\n",
       "┌─────┬───────────┐\n",
       "│ sex ┆ rings     │\n",
       "│ --- ┆ ---       │\n",
       "│ str ┆ f64       │\n",
       "╞═════╪═══════════╡\n",
       "│ I   ┆ 7.872257  │\n",
       "│ F   ┆ 11.001376 │\n",
       "│ M   ┆ 10.678645 │\n",
       "└─────┴───────────┘"
      ]
     },
     "execution_count": 52,
     "metadata": {},
     "output_type": "execute_result"
    }
   ],
   "source": [
    "%%time\n",
    "df_pl.group_by('sex').agg(pl.mean('rings'))"
   ]
  },
  {
   "cell_type": "code",
   "execution_count": 51,
   "id": "7e0c80dc",
   "metadata": {},
   "outputs": [
    {
     "name": "stdout",
     "output_type": "stream",
     "text": [
      "CPU times: total: 125 ms\n",
      "Wall time: 139 ms\n"
     ]
    },
    {
     "data": {
      "text/html": [
       "<div>\n",
       "<style scoped>\n",
       "    .dataframe tbody tr th:only-of-type {\n",
       "        vertical-align: middle;\n",
       "    }\n",
       "\n",
       "    .dataframe tbody tr th {\n",
       "        vertical-align: top;\n",
       "    }\n",
       "\n",
       "    .dataframe thead th {\n",
       "        text-align: right;\n",
       "    }\n",
       "</style>\n",
       "<table border=\"1\" class=\"dataframe\">\n",
       "  <thead>\n",
       "    <tr style=\"text-align: right;\">\n",
       "      <th></th>\n",
       "      <th>sex</th>\n",
       "      <th>rings</th>\n",
       "    </tr>\n",
       "  </thead>\n",
       "  <tbody>\n",
       "    <tr>\n",
       "      <th>0</th>\n",
       "      <td>F</td>\n",
       "      <td>11.001376</td>\n",
       "    </tr>\n",
       "    <tr>\n",
       "      <th>1</th>\n",
       "      <td>I</td>\n",
       "      <td>7.872257</td>\n",
       "    </tr>\n",
       "    <tr>\n",
       "      <th>2</th>\n",
       "      <td>M</td>\n",
       "      <td>10.678645</td>\n",
       "    </tr>\n",
       "  </tbody>\n",
       "</table>\n",
       "</div>"
      ],
      "text/plain": [
       "  sex      rings\n",
       "0   F  11.001376\n",
       "1   I   7.872257\n",
       "2   M  10.678645"
      ]
     },
     "execution_count": 51,
     "metadata": {},
     "output_type": "execute_result"
    }
   ],
   "source": [
    "%%time\n",
    "df_pd.groupby('sex', as_index=False).agg({'rings': 'mean'})"
   ]
  },
  {
   "cell_type": "markdown",
   "id": "27970df6",
   "metadata": {},
   "source": [
    "Polars как-будто быстрее агрегирует данные, но с каждым выполнением время разное. Несколько раз Pandas был быстрее."
   ]
  }
 ],
 "metadata": {
  "kernelspec": {
   "display_name": "Python 3 (ipykernel)",
   "language": "python",
   "name": "python3"
  },
  "language_info": {
   "codemirror_mode": {
    "name": "ipython",
    "version": 3
   },
   "file_extension": ".py",
   "mimetype": "text/x-python",
   "name": "python",
   "nbconvert_exporter": "python",
   "pygments_lexer": "ipython3",
   "version": "3.9.12"
  }
 },
 "nbformat": 4,
 "nbformat_minor": 5
}
